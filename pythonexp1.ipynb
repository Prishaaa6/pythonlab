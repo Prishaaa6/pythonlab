{
 "cells": [
  {
   "cell_type": "markdown",
   "id": "553cf3ff-44ab-4b4d-a1a5-6e60c9dce037",
   "metadata": {},
   "source": [
    "Strings in Python"
   ]
  },
  {
   "cell_type": "code",
   "execution_count": 1,
   "id": "59bf30a6-2a6c-4654-bd41-5b6aedc8e6d7",
   "metadata": {},
   "outputs": [
    {
     "name": "stdout",
     "output_type": "stream",
     "text": [
      "This is a string\n",
      "This is a string\n",
      "This is a string\n"
     ]
    }
   ],
   "source": [
    "# Assigning string to a variable\n",
    "a = 'This is a string'\n",
    "print (a)\n",
    "b = \"This is a string\"\n",
    "print (b)\n",
    "c= '''This is a string'''\n",
    "print (c)"
   ]
  },
  {
   "cell_type": "markdown",
   "id": "5e351b87-9a4d-4b9b-bc4f-bb58529f7604",
   "metadata": {},
   "source": [
    "Lists in Python"
   ]
  },
  {
   "cell_type": "code",
   "execution_count": 2,
   "id": "3e30b3da-2ad4-4b18-be55-992fae10006e",
   "metadata": {},
   "outputs": [
    {
     "name": "stdout",
     "output_type": "stream",
     "text": [
      "[1, 'a', 'string', 3]\n",
      "[1, 'a', 'string', 3, 6]\n",
      "[1, 'a', 'string', 3]\n",
      "a\n"
     ]
    }
   ],
   "source": [
    "# Declaring a list\n",
    "L = [1, \"a\" , \"string\" , 1+2]\n",
    "print (L)\n",
    "#Adding an element in the list\n",
    "L.append(6) \n",
    "print (L)\n",
    "#Deleting last element from a list\n",
    "L.pop()\n",
    "print (L)\n",
    "#Displaying Second element of the list\n",
    "print (L[1])"
   ]
  },
  {
   "cell_type": "markdown",
   "id": "3d6a3146-d3e2-4c75-9f74-2e8822f5727d",
   "metadata": {},
   "source": [
    "Tuples in Python\n"
   ]
  },
  {
   "cell_type": "code",
   "execution_count": 3,
   "id": "c3eb1259-31f0-4a2b-8e82-9828213a7253",
   "metadata": {},
   "outputs": [
    {
     "name": "stdout",
     "output_type": "stream",
     "text": [
      "(1, 'a', 'string', 3)\n",
      "a\n"
     ]
    }
   ],
   "source": [
    "tup = (1, \"a\", \"string\", 1+2)\n",
    "print(tup)\n",
    "print(tup[1])"
   ]
  },
  {
   "cell_type": "markdown",
   "id": "869a5d94-e8e7-4bda-9f8c-0e6e16d871d0",
   "metadata": {},
   "source": [
    "Dictionaries in Python"
   ]
  },
  {
   "cell_type": "code",
   "execution_count": 4,
   "id": "78f187ad-4c0b-4339-9380-fabec271db16",
   "metadata": {},
   "outputs": [
    {
     "name": "stdout",
     "output_type": "stream",
     "text": [
      "{1: 'Lorem', 2: 'Ipsum', 3: 'Dolerum'}\n"
     ]
    }
   ],
   "source": [
    "d = {1: 'Lorem', 2: 'Ipsum', 3: 'Dolerum'}\n",
    "print(d)"
   ]
  },
  {
   "cell_type": "markdown",
   "id": "02eb060b-db8c-4909-9344-6e55ec48fa08",
   "metadata": {},
   "source": [
    "Create a Dictionary"
   ]
  },
  {
   "cell_type": "code",
   "execution_count": 5,
   "id": "8f78d35b-3ab7-4d57-a16b-7c822ec288d0",
   "metadata": {},
   "outputs": [
    {
     "name": "stdout",
     "output_type": "stream",
     "text": [
      "{1: 'Game', 2: 'of', 3: 'Thrones'}\n",
      "{'a': 'House', 'b': 'of', 'c': 'Cards'}\n"
     ]
    }
   ],
   "source": [
    "# create dictionary using { }\n",
    "d1 = {1: 'Game', 2: 'of', 3: 'Thrones'}\n",
    "print(d1)\n",
    "\n",
    "# create dictionary using dict() constructor\n",
    "d2 = dict(a = \"House\", b = \"of\", c = \"Cards\")\n",
    "print(d2)"
   ]
  },
  {
   "cell_type": "markdown",
   "id": "f2e40650-8146-4a9d-8879-5649d1f16ee9",
   "metadata": {},
   "source": [
    "Accessing Dictionary Items"
   ]
  },
  {
   "cell_type": "code",
   "execution_count": 6,
   "id": "4fba9159-b101-4004-999b-8c44c282e2de",
   "metadata": {},
   "outputs": [
    {
     "name": "stdout",
     "output_type": "stream",
     "text": [
      "sassaa\n",
      "sassaa\n"
     ]
    }
   ],
   "source": [
    "d = { \"name\": \"sassaa\", 1: \"Python\", (1, 2): [1,2,4] }\n",
    "\n",
    "# Access using key\n",
    "print(d[\"name\"])\n",
    "\n",
    "# Access using get()\n",
    "print(d.get(\"name\"))"
   ]
  },
  {
   "cell_type": "markdown",
   "id": "94cd3f88-8fa0-4c45-b570-f99b186b35b6",
   "metadata": {},
   "source": [
    "Deleting Dictionary items"
   ]
  },
  {
   "cell_type": "code",
   "execution_count": 7,
   "id": "384a63cf-4fd3-49c9-8dac-24f0b270bd2d",
   "metadata": {},
   "outputs": [
    {
     "name": "stdout",
     "output_type": "stream",
     "text": [
      "{'brand': 'Ford', 'model': 'Mustang'}\n"
     ]
    }
   ],
   "source": [
    "thisdict = {\n",
    "  \"brand\": \"Ford\",\n",
    "  \"model\": \"Mustang\",\n",
    "  \"year\": 1964\n",
    "}\n",
    "thisdict.popitem()\n",
    "print(thisdict)"
   ]
  },
  {
   "cell_type": "markdown",
   "id": "8e3be458-47bc-4ff1-97d8-fcc884c6f401",
   "metadata": {},
   "source": [
    "Adding and Updating Dictionary Items"
   ]
  },
  {
   "cell_type": "code",
   "execution_count": 8,
   "id": "65b592b1-725b-4255-9d59-cc7ccc1619a7",
   "metadata": {},
   "outputs": [
    {
     "name": "stdout",
     "output_type": "stream",
     "text": [
      "{1: 'Python dict', 2: 'of', 3: 'Thrones', 'age': 22}\n"
     ]
    }
   ],
   "source": [
    "d = {1: 'Game', 2: 'of', 3: 'Thrones'}\n",
    "\n",
    "# Adding a new key-value pair\n",
    "d[\"age\"] = 22\n",
    "\n",
    "# Updating an existing value\n",
    "d[1] = \"Python dict\"\n",
    "\n",
    "print(d)"
   ]
  }
 ],
 "metadata": {
  "kernelspec": {
   "display_name": "Python 3 (ipykernel)",
   "language": "python",
   "name": "python3"
  },
  "language_info": {
   "codemirror_mode": {
    "name": "ipython",
    "version": 3
   },
   "file_extension": ".py",
   "mimetype": "text/x-python",
   "name": "python",
   "nbconvert_exporter": "python",
   "pygments_lexer": "ipython3",
   "version": "3.13.1"
  }
 },
 "nbformat": 4,
 "nbformat_minor": 5
}
